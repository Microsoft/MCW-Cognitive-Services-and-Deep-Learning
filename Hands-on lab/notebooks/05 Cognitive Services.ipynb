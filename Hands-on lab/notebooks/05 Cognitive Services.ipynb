{
  "cells": [
    {
      "metadata": {},
      "cell_type": "markdown",
      "source": "# Combining Pre-Built & Custom AI Services\n\nIn this notebook, you will integrate with the Computer Vision API and the Text Analytics API to augment the claims processing capabilities. In the end, you will integrate the API calls to the summarizer and classifier services that your deployed and produce a finished claim report that shows all of the processing applied to the claim text and claim image."
    },
    {
      "metadata": {},
      "cell_type": "markdown",
      "source": "## Task 1 - Caption & Tag with the Computer Vision API"
    },
    {
      "metadata": {},
      "cell_type": "markdown",
      "source": "In the cell bellow, provided the key to your Computer Vision API and run the cell."
    },
    {
      "metadata": {
        "trusted": true
      },
      "cell_type": "code",
      "source": "subscription_key = '' #\"<your_computer_vision_api_key>\"\nassert subscription_key",
      "execution_count": null,
      "outputs": []
    },
    {
      "metadata": {},
      "cell_type": "markdown",
      "source": "Construct the endpoint to the Computer Vision API by running the following cell. Notice the last path segment is analyze, which indicates you will use the analyze feature.\n\nBe sure to update the value in vision_endpoint below so it matches the Endpoint value you copied from the Azure Portal for your instance of the Computer Vision service. Be sure your value ends in a slash (/)"
    },
    {
      "metadata": {
        "trusted": true
      },
      "cell_type": "code",
      "source": "vision_endpoint = '' #\"<your_computer_vision_api_endpoint>\"\nvision_base_url = vision_endpoint + \"vision/v1.0/\"\nvision_analyze_url = vision_base_url + \"analyze\"",
      "execution_count": null,
      "outputs": []
    },
    {
      "metadata": {},
      "cell_type": "markdown",
      "source": "The following cell contains a list of sample images found after performing a simple web search. Feel free to substitute in URLs to the image of your choice."
    },
    {
      "metadata": {
        "trusted": true
      },
      "cell_type": "code",
      "source": "fender_bender = \"https://www.washingtonpost.com/blogs/innovations/files/2015/02/Stolen_Car_Crash-00aef.jpg\"\ndamaged_house = \"https://c2.staticflickr.com/8/7342/10983313185_0589b74946_z.jpg\"\npolice_car = \"https://localtvwnep.files.wordpress.com/2015/11/fender-bender.jpeg\"\ncar_with_text = \"https://static.buildasign.com/cmsimages/bas-vinyl-lettering-splash-01.png\"\ncar_tow = 'https://i.ytimg.com/vi/wmxJ2FrzTWo/maxresdefault.jpg'",
      "execution_count": null,
      "outputs": []
    },
    {
      "metadata": {},
      "cell_type": "markdown",
      "source": "From the list of images above, select one and assign it to image_url for further processing:"
    },
    {
      "metadata": {
        "trusted": true
      },
      "cell_type": "code",
      "source": "image_url = car_tow",
      "execution_count": null,
      "outputs": []
    },
    {
      "metadata": {},
      "cell_type": "markdown",
      "source": "Run the following cell to preview the image you have selected."
    },
    {
      "metadata": {
        "trusted": true
      },
      "cell_type": "code",
      "source": "from IPython.display import Image, display\ndisplay(Image(image_url))",
      "execution_count": null,
      "outputs": []
    },
    {
      "metadata": {},
      "cell_type": "markdown",
      "source": "The following cell builds the HTTP request to make against the Computer Vision API.\n\nRun the following cell to retrieve the caption and tags:"
    },
    {
      "metadata": {
        "trusted": true
      },
      "cell_type": "code",
      "source": "import requests\nheaders  = {'Ocp-Apim-Subscription-Key': subscription_key }\nparams   = {'visualFeatures': 'Categories,Description,Tags,Color'}\ndata     = {'url': image_url}\nresponse = requests.post(vision_analyze_url, headers=headers, params=params, json=data)\nresponse.raise_for_status()\nanalysis = response.json()\nanalysis",
      "execution_count": null,
      "outputs": []
    },
    {
      "metadata": {},
      "cell_type": "markdown",
      "source": "As you can see in the above output, the result is a nested document structure. Run the following cells to pull out the caption and top 3 tag results:"
    },
    {
      "metadata": {
        "trusted": true
      },
      "cell_type": "code",
      "source": "caption = analysis[\"description\"][\"captions\"][0][\"text\"].capitalize()\ncaption",
      "execution_count": null,
      "outputs": []
    },
    {
      "metadata": {
        "trusted": true
      },
      "cell_type": "code",
      "source": "topTags = analysis[\"description\"][\"tags\"][0:3]\ntopTags",
      "execution_count": null,
      "outputs": []
    },
    {
      "metadata": {},
      "cell_type": "markdown",
      "source": "## Task 2 - Performing OCR"
    },
    {
      "metadata": {},
      "cell_type": "markdown",
      "source": "In order to perform OCR with the Computer Vision service, you need to target the OCR endpoint.\n\nRun the following cell to construct the right URL:"
    },
    {
      "metadata": {
        "trusted": true
      },
      "cell_type": "code",
      "source": "vision_ocr_url = vision_base_url + \"ocr\"",
      "execution_count": null,
      "outputs": []
    },
    {
      "metadata": {},
      "cell_type": "markdown",
      "source": "Next, invoke the OCR endpoint with the following code and examine the result:"
    },
    {
      "metadata": {
        "trusted": true
      },
      "cell_type": "code",
      "source": "headers  = {'Ocp-Apim-Subscription-Key': subscription_key }\nparams   = {}\ndata     = {'url': image_url}\nresponse = requests.post(vision_ocr_url, headers=headers, params=params, json=data)\nresponse.raise_for_status()\nocr_analysis = response.json()\nocr_analysis",
      "execution_count": null,
      "outputs": []
    },
    {
      "metadata": {},
      "cell_type": "markdown",
      "source": "We have provided the following code for you to extract the text as a flat array from the results.\n\nRun the following cell to extract the text items from the results document:"
    },
    {
      "metadata": {
        "trusted": true
      },
      "cell_type": "code",
      "source": "import itertools\nflatten = lambda x: list(itertools.chain.from_iterable(x))\nwords_list = [[ [w['text'] for w in line['words']]  for line in d['lines']] for d in ocr_analysis['regions']]\nwords_list = flatten(flatten(words_list))\nprint(list(words_list))",
      "execution_count": null,
      "outputs": []
    },
    {
      "metadata": {},
      "cell_type": "markdown",
      "source": "## Task 3 - Performing Sentiment Analysis"
    },
    {
      "metadata": {},
      "cell_type": "markdown",
      "source": "Sentiment Analysis is performed using the Text Analytics API.\n\nUpdate the following cell with the key to your instance of the Text Analytics API and run the cell:"
    },
    {
      "metadata": {
        "trusted": true
      },
      "cell_type": "code",
      "source": "text_analytics_subscription_key = '' #\"<your_text_analytics_key>\"\nassert text_analytics_subscription_key",
      "execution_count": null,
      "outputs": []
    },
    {
      "metadata": {},
      "cell_type": "markdown",
      "source": "Update the following cell with the correct base URL for your deployed instance of the Text Analytics API and run the cell:"
    },
    {
      "metadata": {
        "trusted": true
      },
      "cell_type": "code",
      "source": "#\"<your_text_analytics_base_url>\"\ntext_analytics_base_url = ''\nsentiment_api_url = text_analytics_base_url + \"text/analytics/v2.1/sentiment\"",
      "execution_count": null,
      "outputs": []
    },
    {
      "metadata": {},
      "cell_type": "markdown",
      "source": "The following cell has a set of example claims you can use to test the measurement sentiment.\n\nRun the cell:"
    },
    {
      "metadata": {
        "trusted": true
      },
      "cell_type": "code",
      "source": "neg_sent = \"\"\"We are just devastated and emotionally drained. \nThe roof was torn off of our car, and to make matters\nworse my daughter's favorite teddy bear was impaled on the street lamp.\"\"\"\npos_sent = \"\"\"We are just happy the damaage was mininmal and that everyone is safe. \nWe are thankful for your support.\"\"\"\nneutral_sent = \"\"\"I crashed my car.\"\"\"\nlong_claim = \"\"\"\nI was driving down El Camino and stopped at a red light.\nIt was about 3pm in the afternoon. The sun was bright and shining just behind the stoplight.\nThis made it hard to see the lights. There was a car on my left in the left turn lane.\nA few moments later another car, a black sedan pulled up behind me. \nWhen the left turn light changed green, the black sedan hit me thinking \nthat the light had changed for us, but I had not moved because the light \nwas still red. After hitting my car, the black sedan backed up and then sped past me.\nI did manage to catch its license plate. The license plate of the black sedan was ABC123. \n\"\"\"",
      "execution_count": null,
      "outputs": []
    },
    {
      "metadata": {},
      "cell_type": "markdown",
      "source": "From the above list of claims, select one and assign its variable to claim_text to be used in the call to the Text Analytics API."
    },
    {
      "metadata": {
        "trusted": true
      },
      "cell_type": "code",
      "source": "claim_text = long_claim",
      "execution_count": null,
      "outputs": []
    },
    {
      "metadata": {},
      "cell_type": "markdown",
      "source": "The API requires you to submit a document of the following form.\n\nRun the cell to build the request document:"
    },
    {
      "metadata": {
        "trusted": true
      },
      "cell_type": "code",
      "source": "documents = {'documents' : [\n    {'id': '1', 'language': 'en', 'text': claim_text}\n]}",
      "execution_count": null,
      "outputs": []
    },
    {
      "metadata": {},
      "cell_type": "markdown",
      "source": "Now invoke the Text Analytics API and observe the result."
    },
    {
      "metadata": {
        "trusted": true
      },
      "cell_type": "code",
      "source": "headers   = {\"Ocp-Apim-Subscription-Key\": text_analytics_subscription_key}\nresponse  = requests.post(sentiment_api_url, headers=headers, json=documents)\nsentiments = response.json()\nsentiments",
      "execution_count": null,
      "outputs": []
    },
    {
      "metadata": {},
      "cell_type": "markdown",
      "source": "To parse out the sentiment score from the response, run the following cell:"
    },
    {
      "metadata": {
        "trusted": true
      },
      "cell_type": "code",
      "source": "score = sentiments['documents'][0]['score']\nscore",
      "execution_count": null,
      "outputs": []
    },
    {
      "metadata": {},
      "cell_type": "markdown",
      "source": "You can provide a human-friendly interpretation on this score by running the following cell:"
    },
    {
      "metadata": {
        "trusted": true
      },
      "cell_type": "code",
      "source": "score_interpretation = \"neutral\"\nif (score < 0.45): \n    score_interpretation = \"negative\"\nelif (score >= 0.55):\n    score_interpretation = \"positive\"\nscore_interpretation",
      "execution_count": null,
      "outputs": []
    },
    {
      "metadata": {},
      "cell_type": "markdown",
      "source": "## Task 4 - Invoking the Azure ML Deployed Services"
    },
    {
      "metadata": {},
      "cell_type": "markdown",
      "source": "Run the following cell to define a method that will be used to invoke your classifier and summarizer methods deployed using Azure Machine Learning service to Azure Container Instances:"
    },
    {
      "metadata": {
        "trusted": true
      },
      "cell_type": "code",
      "source": "def invoke_service(ml_service_key, ml_service_scoring_endpoint, ml_service_input):\n    headers   = {\"Authorization\": \"Bearer \" + ml_service_key}\n    response  = requests.post(ml_service_scoring_endpoint, headers=headers, json=ml_service_input)\n    result = response.json()\n    return result",
      "execution_count": null,
      "outputs": []
    },
    {
      "metadata": {},
      "cell_type": "markdown",
      "source": "Configure the classifier invocation with the key and endpoint as appropriate to your deployed instance:"
    },
    {
      "metadata": {
        "trusted": true
      },
      "cell_type": "code",
      "source": "classifier_service_key = \"\" #leave this value empty if the service does not have authentication enabled\n#\"<your_classifier_scoring_url>\"\nclassifier_service_scoring_endpoint = ''\nclassifier_service_input = [claim_text]",
      "execution_count": null,
      "outputs": []
    },
    {
      "metadata": {},
      "cell_type": "markdown",
      "source": "Invoke the classifier and observe the result:"
    },
    {
      "metadata": {
        "trusted": true
      },
      "cell_type": "code",
      "source": "classifier_result = invoke_service(classifier_service_key, \n                                   classifier_service_scoring_endpoint, classifier_service_input)\nclassifier_result",
      "execution_count": null,
      "outputs": []
    },
    {
      "metadata": {
        "trusted": true
      },
      "cell_type": "code",
      "source": "# Interpret the classifier result\nclassification = 'Auto Insurance Claim' if classifier_result == 1 else 'Home Insurance Claim' \nclassification",
      "execution_count": null,
      "outputs": []
    },
    {
      "metadata": {},
      "cell_type": "markdown",
      "source": "Similarly, configure the key and scoring endpoint as appropriate to your summarizer service:"
    },
    {
      "metadata": {
        "trusted": true
      },
      "cell_type": "code",
      "source": "summarizer_service_key = \"\" #leave this value empty if the service does not have authentication enabled\n#\"<your_summarizer_service_url>\"\nsummarizer_service_scoring_endpoint = ''\nsummarizer_service_input = claim_text",
      "execution_count": null,
      "outputs": []
    },
    {
      "metadata": {},
      "cell_type": "markdown",
      "source": "Invoke the summarizer service and observe the result:"
    },
    {
      "metadata": {
        "trusted": true
      },
      "cell_type": "code",
      "source": "summarizer_result = invoke_service(summarizer_service_key, summarizer_service_scoring_endpoint, \n                                   summarizer_service_input)\nformatted_result =  summarizer_result[0].replace(\"\\\\n\", \" \").strip() if len(summarizer_result) > 0 else \"N/A\"\nformatted_result",
      "execution_count": null,
      "outputs": []
    },
    {
      "metadata": {},
      "cell_type": "markdown",
      "source": "## Task 5 - Summarizing the Results\n\nIn this final task, you pull together all of the pieces to display the results of your AI based processing.\n\nRun the following cell and examine the result."
    },
    {
      "metadata": {
        "trusted": true
      },
      "cell_type": "code",
      "source": "from IPython.core.display import HTML\n\ndisplayTemplate = \"\"\"\n<div><b>Claim Summary</b></div>\n<div>Classification: {}</div>\n<div>Caption: {}</div>\n<div>Tags: {}</div>\n<div>Text in Image: {}</div>\n<div>Sentiment: {}</div>\n<div><img src='{}' width='200px'></div>\n<div>Summary: </div>\n<div><pre>{} </pre></div>\n<div>&nbsp;</div>\n<div>Claim:</div>\n<div>{}</div>\n\n\"\"\"\ndisplayTemplate = displayTemplate.format(classification, caption, ' '.join(topTags), ' '.join(words_list), \n                                         score_interpretation, image_url, formatted_result, \n                                         claim_text)\ndisplay(HTML(displayTemplate))",
      "execution_count": null,
      "outputs": []
    }
  ],
  "metadata": {
    "kernelspec": {
      "name": "python36",
      "display_name": "Python 3.6",
      "language": "python"
    },
    "language_info": {
      "mimetype": "text/x-python",
      "nbconvert_exporter": "python",
      "name": "python",
      "pygments_lexer": "ipython3",
      "version": "3.6.6",
      "file_extension": ".py",
      "codemirror_mode": {
        "version": 3,
        "name": "ipython"
      }
    }
  },
  "nbformat": 4,
  "nbformat_minor": 2
}
